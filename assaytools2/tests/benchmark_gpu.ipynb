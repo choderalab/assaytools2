{
  "nbformat": 4,
  "nbformat_minor": 0,
  "metadata": {
    "colab": {
      "name": "benchmark_gpu.ipynb",
      "version": "0.3.2",
      "provenance": [],
      "toc_visible": true,
      "include_colab_link": true
    },
    "kernelspec": {
      "name": "python3",
      "display_name": "Python 3"
    },
    "accelerator": "GPU"
  },
  "cells": [
    {
      "cell_type": "markdown",
      "metadata": {
        "id": "view-in-github",
        "colab_type": "text"
      },
      "source": [
        "<a href=\"https://colab.research.google.com/github/choderalab/assaytools2/blob/master/assaytools2/tests/benchmark_gpu.ipynb\" target=\"_parent\"><img src=\"https://colab.research.google.com/assets/colab-badge.svg\" alt=\"Open In Colab\"/></a>"
      ]
    },
    {
      "metadata": {
        "id": "mXzn1xWYe3VC",
        "colab_type": "text"
      },
      "cell_type": "markdown",
      "source": [
        "# Benchmark\n",
        "\n",
        "The following benchmark test is conducted on google colab using single gpu"
      ]
    },
    {
      "metadata": {
        "id": "_a_k7zKLe3VE",
        "colab_type": "text"
      },
      "cell_type": "markdown",
      "source": [
        "## imports and preparation"
      ]
    },
    {
      "metadata": {
        "id": "RKZJzlEpfEjQ",
        "colab_type": "code",
        "colab": {
          "base_uri": "https://localhost:8080/",
          "height": 241
        },
        "outputId": "10f84a4a-f3c2-4aa0-d0eb-4689531815c0"
      },
      "cell_type": "code",
      "source": [
        "! git clone https://github.com/choderalab/assaytools2.git"
      ],
      "execution_count": 1,
      "outputs": [
        {
          "output_type": "stream",
          "text": [
            "Cloning into 'assaytools2'...\n",
            "remote: Enumerating objects: 80, done.\u001b[K\n",
            "remote: Counting objects: 100% (80/80), done.\u001b[K\n",
            "remote: Compressing objects: 100% (62/62), done.\u001b[K\n",
            "remote: Total 148 (delta 37), reused 51 (delta 18), pack-reused 68\u001b[K\n",
            "Receiving objects: 100% (148/148), 457.88 KiB | 1.35 MiB/s, done.\n",
            "Resolving deltas: 100% (53/53), done.\n"
          ],
          "name": "stdout"
        }
      ]
    },
    {
      "metadata": {
        "id": "o-HjqGTBe3VG",
        "colab_type": "code",
        "colab": {
          "base_uri": "https://localhost:8080/",
          "height": 173
        },
        "outputId": "4d932349-c558-418e-ee68-79beacc322cf"
      },
      "cell_type": "code",
      "source": [
        "#imports\n",
        "import sys\n",
        "sys.path.append('assaytools2/assaytools2')\n",
        "from titration_96 import *\n",
        "import numpy\n",
        "import random\n",
        "import copy\n",
        "import matplotlib\n",
        "from matplotlib import pyplot as plt\n",
        "import time"
      ],
      "execution_count": 2,
      "outputs": [
        {
          "output_type": "stream",
          "text": [
            "\n",
            "WARNING: The TensorFlow contrib module will not be included in TensorFlow 2.0.\n",
            "For more information, please see:\n",
            "  * https://github.com/tensorflow/community/blob/master/rfcs/20180907-contrib-sunset.md\n",
            "  * https://github.com/tensorflow/addons\n",
            "If you depend on functionality not listed there, please file an issue.\n",
            "\n"
          ],
          "name": "stdout"
        }
      ]
    },
    {
      "metadata": {
        "id": "yTnHr3hWe3VL",
        "colab_type": "text"
      },
      "cell_type": "markdown",
      "source": [
        "Prepare ligand, protein, and complex stock"
      ]
    },
    {
      "metadata": {
        "id": "c-laLiYRe3VM",
        "colab_type": "code",
        "colab": {}
      },
      "cell_type": "code",
      "source": [
        "ligand_stock = Solution(conc_l=1.0, d_conc_l=0.05)\n",
        "protein_stock = Solution(conc_p=2.0, d_conc_p=0.01)\n",
        "complex_stock = Solution(\n",
        "        conc_l=1.0, d_conc_l=0.05,\n",
        "        conc_p=2.0, d_conc_p=0.01)"
      ],
      "execution_count": 0,
      "outputs": []
    },
    {
      "metadata": {
        "id": "dQa3Kxvke3VQ",
        "colab_type": "text"
      },
      "cell_type": "markdown",
      "source": [
        "prepare a 96-well plate"
      ]
    },
    {
      "metadata": {
        "id": "pc12nb0xe3VQ",
        "colab_type": "code",
        "colab": {}
      },
      "cell_type": "code",
      "source": [
        "plate = Plate(96)"
      ],
      "execution_count": 0,
      "outputs": []
    },
    {
      "metadata": {
        "id": "0e5iGacZe3VS",
        "colab_type": "text"
      },
      "cell_type": "markdown",
      "source": [
        "## define a random injection"
      ]
    },
    {
      "metadata": {
        "id": "BnUp7S0Oe3VT",
        "colab_type": "code",
        "colab": {}
      },
      "cell_type": "code",
      "source": [
        "def random_injection():\n",
        "    \"\"\" randomly inject something into somewhere\n",
        "    \"\"\"\n",
        "    global plate\n",
        "    global ligand_stock, protein_stock, complex_stock\n",
        "    \n",
        "    # choose well idx\n",
        "    well_idx = random.randint(0, 95)\n",
        "    \n",
        "    # choose solution\n",
        "    solution = random.choice([ligand_stock, protein_stock, complex_stock])\n",
        "    \n",
        "    # choose a reasonable volumn\n",
        "    vol = random.random() * 5.0\n",
        "    \n",
        "    # choose a reasonable uncertainty associated with volumn\n",
        "    d_vol = random.random() * 0.5\n",
        "    \n",
        "    plate.inject(solution, well_idx, vol, d_vol)\n",
        "    "
      ],
      "execution_count": 0,
      "outputs": []
    },
    {
      "metadata": {
        "id": "8SjTOKlSe3VX",
        "colab_type": "text"
      },
      "cell_type": "markdown",
      "source": [
        "## visulize a bit"
      ]
    },
    {
      "metadata": {
        "id": "KBvmpSyHe3VY",
        "colab_type": "code",
        "colab": {}
      },
      "cell_type": "code",
      "source": [
        "def visulize(plate):\n",
        "    plt.axis('off')\n",
        "    plt.figure(figsize=(20, 20))\n",
        "    \n",
        "    # vols\n",
        "    plt.subplot(411)\n",
        "    plt.imshow(plate.vols.numpy().transpose(), cmap='inferno', \n",
        "            norm=matplotlib.colors.Normalize(0, 1))\n",
        "    plt.title('vols')\n",
        "    \n",
        "    # concs\n",
        "    plt.subplot(412)\n",
        "    plt.imshow(plate.concs.numpy()[:, 0, :].transpose(), cmap='inferno', \n",
        "               norm=matplotlib.colors.Normalize(0, 1))\n",
        "    plt.title('concs_p')\n",
        "    \n",
        "    plt.subplot(413)\n",
        "    plt.imshow(plate.concs.numpy()[:, 0, :].transpose(), cmap='inferno', \n",
        "               norm=matplotlib.colors.Normalize(0, 1))\n",
        "    plt.title('concs_l')\n",
        "    \n",
        "    plt.subplot(414)\n",
        "    plt.imshow(plate.concs.numpy()[:, 0, :].transpose(), cmap='inferno', \n",
        "               norm=matplotlib.colors.Normalize(0, 1))\n",
        "    plt.title('concs_r')"
      ],
      "execution_count": 0,
      "outputs": []
    },
    {
      "metadata": {
        "id": "Q1wvalHde3Vb",
        "colab_type": "code",
        "colab": {
          "base_uri": "https://localhost:8080/",
          "height": 158
        },
        "outputId": "4a3a6cf8-17f6-4bf8-ac0c-cde18617c1d2"
      },
      "cell_type": "code",
      "source": [
        "for idx in range(1000):\n",
        "    random_injection()\n",
        "plate.sample()"
      ],
      "execution_count": 7,
      "outputs": [
        {
          "output_type": "stream",
          "text": [
            "WARNING:tensorflow:From /usr/local/lib/python3.6/dist-packages/tensorflow/python/ops/resource_variable_ops.py:642: colocate_with (from tensorflow.python.framework.ops) is deprecated and will be removed in a future version.\n",
            "Instructions for updating:\n",
            "Colocations handled automatically by placer.\n",
            "WARNING:tensorflow:From assaytools2/assaytools2/titration_96.py:300: div (from tensorflow.python.ops.math_ops) is deprecated and will be removed in a future version.\n",
            "Instructions for updating:\n",
            "Deprecated in favor of operator or tf.math.divide.\n"
          ],
          "name": "stdout"
        }
      ]
    },
    {
      "metadata": {
        "scrolled": true,
        "id": "zYH7IFq6e3Vg",
        "colab_type": "code",
        "colab": {
          "base_uri": "https://localhost:8080/",
          "height": 1375
        },
        "outputId": "8b941fbe-ffcf-4533-8391-f572fc73d3b0"
      },
      "cell_type": "code",
      "source": [
        "visulize(plate)"
      ],
      "execution_count": 8,
      "outputs": [
        {
          "output_type": "display_data",
          "data": {
            "image/png": "[encoded data removed]",
            "text/plain": [
              "<Figure size 576x396 with 1 Axes>"
            ]
          },
          "metadata": {
            "tags": []
          }
        },
        {
          "output_type": "display_data",
          "data": {
            "image/png": "[encoded data removed]",
            "text/plain": [
              "<Figure size 1440x1440 with 4 Axes>"
            ]
          },
          "metadata": {
            "tags": []
          }
        }
      ]
    },
    {
      "metadata": {
        "id": "FBe56V92e3Vl",
        "colab_type": "text"
      },
      "cell_type": "markdown",
      "source": [
        "## benchmark"
      ]
    },
    {
      "metadata": {
        "id": "ztCKb_EUe3Vm",
        "colab_type": "code",
        "colab": {
          "base_uri": "https://localhost:8080/",
          "height": 153
        },
        "outputId": "6b83b8d6-6cc2-411f-94ab-cd449eee2a36"
      },
      "cell_type": "code",
      "source": [
        "n_injections_array = [1, 10, 100, 1000]\n",
        "sample_time = []\n",
        "for n_injections in n_injections_array:\n",
        "    plate = Plate(96)\n",
        "    time0 = time.time()\n",
        "    for dummy_idx in range(n_injections):\n",
        "        random_injection()\n",
        "    time1 = time.time()\n",
        "    plate.sample()\n",
        "    time2 = time.time()\n",
        "    sample_time.append(time2 - time1)\n",
        "    print(\"%s injections takes %s, sampling takes %s\" %\\\n",
        "          (n_injections, time1 - time0, time2 - time1))"
      ],
      "execution_count": 12,
      "outputs": [
        {
          "output_type": "stream",
          "text": [
            "1 injections takes 0.013467550277709961, sampling takes 0.19350171089172363\n",
            "10 injections takes 0.11129617691040039, sampling takes 0.19648480415344238\n",
            "100 injections takes 1.103825330734253, sampling takes 0.1985023021697998\n",
            "1000 injections takes 11.128419160842896, sampling takes 0.8406789302825928\n"
          ],
          "name": "stdout"
        }
      ]
    },
    {
      "metadata": {
        "id": "IxtiicPwe3Vp",
        "colab_type": "code",
        "colab": {}
      },
      "cell_type": "code",
      "source": [
        ""
      ],
      "execution_count": 0,
      "outputs": []
    }
  ]
}