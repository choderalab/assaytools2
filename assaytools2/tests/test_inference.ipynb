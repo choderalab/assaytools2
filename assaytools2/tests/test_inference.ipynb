{
 "cells": [
  {
   "cell_type": "code",
   "execution_count": 1,
   "metadata": {},
   "outputs": [],
   "source": [
    "import sys\n",
    "sys.path.append('..')\n",
    "import warnings\n",
    "if not sys.warnoptions:\n",
    "    warnings.simplefilter(\"ignore\")\n",
    "import numpy as np\n",
    "np.warnings.filterwarnings('ignore')\n",
    "import matplotlib\n",
    "from matplotlib import pyplot as plt\n",
    "import os\n",
    "os.environ['TF_CPP_MIN_LOG_LEVEL'] = '3'\n",
    "import time\n",
    "from titration import *\n",
    "from bindingmodels import *"
   ]
  },
  {
   "cell_type": "markdown",
   "metadata": {},
   "source": [
    "## preparation\n",
    "let's get a protein stock and a ligand stock, as well as an empty cell"
   ]
  },
  {
   "cell_type": "code",
   "execution_count": 2,
   "metadata": {},
   "outputs": [],
   "source": [
    "protein_stock = Solution(conc_p=0.1, d_conc_p=1e-4)\n",
    "ligand_stock = Solution(conc_l=0.1, d_conc_l=1e-4)\n",
    "complex_stock = Solution(conc_l=0.1, d_conc_l=1e-4, conc_p=0.1, d_conc_p=1e-4)"
   ]
  },
  {
   "cell_type": "markdown",
   "metadata": {},
   "source": [
    "we need two wells, one to put ligand solution, one for protein-ligand complex"
   ]
  },
  {
   "cell_type": "code",
   "execution_count": 3,
   "metadata": {},
   "outputs": [],
   "source": [
    "well_complex = SingleWell()\n",
    "well_ligand = SingleWell()"
   ]
  },
  {
   "cell_type": "markdown",
   "metadata": {},
   "source": [
    "## titration\n",
    "\n",
    "This should model the real process of how the protein and ligand solutions were prepared."
   ]
  },
  {
   "cell_type": "code",
   "execution_count": 4,
   "metadata": {},
   "outputs": [
    {
     "name": "stderr",
     "output_type": "stream",
     "text": [
      "../titration.py:113: RuntimeWarning: divide by zero encountered in power\n",
      "  volume_scaling = np.expand_dims(self.vols, axis=1).dot(np.expand_dims(np.power(self.vols, -1), axis=1).transpose())\n",
      "../titration.py:113: RuntimeWarning: divide by zero encountered in power\n",
      "  volume_scaling = np.expand_dims(self.vols, axis=1).dot(np.expand_dims(np.power(self.vols, -1), axis=1).transpose())\n",
      "../titration.py:113: RuntimeWarning: divide by zero encountered in power\n",
      "  volume_scaling = np.expand_dims(self.vols, axis=1).dot(np.expand_dims(np.power(self.vols, -1), axis=1).transpose())\n",
      "../titration.py:113: RuntimeWarning: divide by zero encountered in power\n",
      "  volume_scaling = np.expand_dims(self.vols, axis=1).dot(np.expand_dims(np.power(self.vols, -1), axis=1).transpose())\n",
      "../titration.py:113: RuntimeWarning: divide by zero encountered in power\n",
      "  volume_scaling = np.expand_dims(self.vols, axis=1).dot(np.expand_dims(np.power(self.vols, -1), axis=1).transpose())\n",
      "../titration.py:113: RuntimeWarning: divide by zero encountered in power\n",
      "  volume_scaling = np.expand_dims(self.vols, axis=1).dot(np.expand_dims(np.power(self.vols, -1), axis=1).transpose())\n",
      "../titration.py:113: RuntimeWarning: divide by zero encountered in power\n",
      "  volume_scaling = np.expand_dims(self.vols, axis=1).dot(np.expand_dims(np.power(self.vols, -1), axis=1).transpose())\n",
      "../titration.py:113: RuntimeWarning: divide by zero encountered in power\n",
      "  volume_scaling = np.expand_dims(self.vols, axis=1).dot(np.expand_dims(np.power(self.vols, -1), axis=1).transpose())\n",
      "../titration.py:113: RuntimeWarning: divide by zero encountered in power\n",
      "  volume_scaling = np.expand_dims(self.vols, axis=1).dot(np.expand_dims(np.power(self.vols, -1), axis=1).transpose())\n",
      "../titration.py:113: RuntimeWarning: divide by zero encountered in power\n",
      "  volume_scaling = np.expand_dims(self.vols, axis=1).dot(np.expand_dims(np.power(self.vols, -1), axis=1).transpose())\n",
      "../titration.py:113: RuntimeWarning: divide by zero encountered in power\n",
      "  volume_scaling = np.expand_dims(self.vols, axis=1).dot(np.expand_dims(np.power(self.vols, -1), axis=1).transpose())\n",
      "../titration.py:113: RuntimeWarning: divide by zero encountered in power\n",
      "  volume_scaling = np.expand_dims(self.vols, axis=1).dot(np.expand_dims(np.power(self.vols, -1), axis=1).transpose())\n",
      "../titration.py:113: RuntimeWarning: divide by zero encountered in power\n",
      "  volume_scaling = np.expand_dims(self.vols, axis=1).dot(np.expand_dims(np.power(self.vols, -1), axis=1).transpose())\n",
      "../titration.py:113: RuntimeWarning: divide by zero encountered in power\n",
      "  volume_scaling = np.expand_dims(self.vols, axis=1).dot(np.expand_dims(np.power(self.vols, -1), axis=1).transpose())\n",
      "../titration.py:113: RuntimeWarning: divide by zero encountered in power\n",
      "  volume_scaling = np.expand_dims(self.vols, axis=1).dot(np.expand_dims(np.power(self.vols, -1), axis=1).transpose())\n",
      "../titration.py:113: RuntimeWarning: divide by zero encountered in power\n",
      "  volume_scaling = np.expand_dims(self.vols, axis=1).dot(np.expand_dims(np.power(self.vols, -1), axis=1).transpose())\n",
      "../titration.py:113: RuntimeWarning: divide by zero encountered in power\n",
      "  volume_scaling = np.expand_dims(self.vols, axis=1).dot(np.expand_dims(np.power(self.vols, -1), axis=1).transpose())\n",
      "../titration.py:113: RuntimeWarning: divide by zero encountered in power\n",
      "  volume_scaling = np.expand_dims(self.vols, axis=1).dot(np.expand_dims(np.power(self.vols, -1), axis=1).transpose())\n",
      "../titration.py:113: RuntimeWarning: divide by zero encountered in power\n",
      "  volume_scaling = np.expand_dims(self.vols, axis=1).dot(np.expand_dims(np.power(self.vols, -1), axis=1).transpose())\n",
      "../titration.py:113: RuntimeWarning: divide by zero encountered in power\n",
      "  volume_scaling = np.expand_dims(self.vols, axis=1).dot(np.expand_dims(np.power(self.vols, -1), axis=1).transpose())\n"
     ]
    }
   ],
   "source": [
    "# put ligand solution in both wells\n",
    "for idx in range(10):\n",
    "    well_complex.inject(complex_stock, 1, 1e-3)\n",
    "    well_ligand.inject(ligand_stock, 1, 1e-3)"
   ]
  },
  {
   "cell_type": "code",
   "execution_count": 5,
   "metadata": {},
   "outputs": [
    {
     "name": "stdout",
     "output_type": "stream",
     "text": [
      "[ 1  2  3  4  5  6  7  8  9 10]\n",
      "[ 1  2  3  4  5  6  7  8  9 10]\n"
     ]
    }
   ],
   "source": [
    "well_complex.select_non_zero()\n",
    "well_ligand.select_non_zero()"
   ]
  },
  {
   "cell_type": "markdown",
   "metadata": {},
   "source": [
    "To make life easier, we pre-calculate what the fluorescence intensities should look like, roughly."
   ]
  },
  {
   "cell_type": "code",
   "execution_count": 6,
   "metadata": {},
   "outputs": [],
   "source": [
    "# let's say:\n",
    "delta_g_truth = -5.0 #kT"
   ]
  },
  {
   "cell_type": "code",
   "execution_count": 7,
   "metadata": {},
   "outputs": [],
   "source": [
    "well_complex_concs_p_truth = well_complex.concs[0]\n",
    "well_complex_concs_l_truth = well_complex.concs[1]\n",
    "concs_p_truth, concs_l_truth, concs_pl_truth = TwoComponentBindingModel.equilibrium_concentrations(\n",
    "            delta_g_truth, well_complex_concs_p_truth, well_complex_concs_l_truth)\n"
   ]
  },
  {
   "cell_type": "code",
   "execution_count": 8,
   "metadata": {},
   "outputs": [
    {
     "data": {
      "text/plain": [
       "<matplotlib.legend.Legend at 0x1c355822b0>"
      ]
     },
     "execution_count": 8,
     "metadata": {},
     "output_type": "execute_result"
    },
    {
     "data": {
      "image/png": "[encoded data removed]",
      "text/plain": [
       "<Figure size 432x288 with 1 Axes>"
      ]
     },
     "metadata": {},
     "output_type": "display_data"
    }
   ],
   "source": [
    "plt.clf()\n",
    "plt.plot(concs_p_truth, label='protein')\n",
    "plt.plot(concs_l_truth, label='ligand')\n",
    "plt.plot(concs_pl_truth, label='complex')\n",
    "plt.legend()"
   ]
  },
  {
   "cell_type": "markdown",
   "metadata": {},
   "source": [
    "Let's arbitrarily make some fluorescence constants."
   ]
  },
  {
   "cell_type": "code",
   "execution_count": 9,
   "metadata": {},
   "outputs": [],
   "source": [
    "fi_p_truth = 0.2\n",
    "fi_l_truth = 0.1\n",
    "fi_pl_truth = 0.5\n",
    "fi_plate_truth = 0.01\n",
    "fi_buffer_truth = 0.01\n",
    "cell_length = 1"
   ]
  },
  {
   "cell_type": "code",
   "execution_count": 10,
   "metadata": {},
   "outputs": [],
   "source": [
    "fi_complex_truth = fi_p_truth * concs_p_truth + fi_l_truth * concs_l_truth + fi_pl_truth * concs_pl_truth + fi_buffer_truth * cell_length + fi_plate_truth\n",
    "fi_ligand_truth = fi_l_truth * concs_l_truth + fi_pl_truth * concs_pl_truth + fi_buffer_truth * cell_length + fi_plate_truth"
   ]
  },
  {
   "cell_type": "markdown",
   "metadata": {},
   "source": [
    "The world isn't perfect, so let's add some noise."
   ]
  },
  {
   "cell_type": "code",
   "execution_count": 11,
   "metadata": {},
   "outputs": [],
   "source": [
    "fi_complex = fi_complex_truth + np.random.normal(0, 0.01, fi_complex_truth.shape[0])\n",
    "fi_ligand = fi_ligand_truth + np.random.normal(0, 0.01, fi_ligand_truth.shape[0])"
   ]
  },
  {
   "cell_type": "markdown",
   "metadata": {},
   "source": [
    "Start to do some inference."
   ]
  },
  {
   "cell_type": "code",
   "execution_count": 12,
   "metadata": {},
   "outputs": [],
   "source": [
    "from inference import *"
   ]
  },
  {
   "cell_type": "code",
   "execution_count": null,
   "metadata": {},
   "outputs": [],
   "source": [
    "make_model(well_complex, well_ligand, fi_complex, fi_ligand)"
   ]
  },
  {
   "cell_type": "code",
   "execution_count": null,
   "metadata": {},
   "outputs": [],
   "source": []
  }
 ],
 "metadata": {
  "kernelspec": {
   "display_name": "Python 3",
   "language": "python",
   "name": "python3"
  },
  "language_info": {
   "codemirror_mode": {
    "name": "ipython",
    "version": 3
   },
   "file_extension": ".py",
   "mimetype": "text/x-python",
   "name": "python",
   "nbconvert_exporter": "python",
   "pygments_lexer": "ipython3",
   "version": "3.6.5"
  }
 },
 "nbformat": 4,
 "nbformat_minor": 2
}
