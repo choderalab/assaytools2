{
 "cells": [
  {
   "cell_type": "code",
   "execution_count": 31,
   "metadata": {},
   "outputs": [],
   "source": [
    "import sys\n",
    "sys.path.append('..')\n",
    "from titration import *\n",
    "import warnings\n",
    "if not sys.warnoptions:\n",
    "    warnings.simplefilter(\"ignore\")\n",
    "import matplotlib\n",
    "from matplotlib import pyplot as plt\n",
    "import os\n",
    "os.environ['TF_CPP_MIN_LOG_LEVEL'] = '3'\n",
    "import time"
   ]
  },
  {
   "cell_type": "markdown",
   "metadata": {},
   "source": [
    "## preparation\n",
    "let's get a protein stock and a ligand stock, as well as an empty cell"
   ]
  },
  {
   "cell_type": "code",
   "execution_count": 32,
   "metadata": {},
   "outputs": [],
   "source": [
    "protein_stock = Solution(conc_p=0.01, d_conc_p=1e-5)\n",
    "ligand_stock = Solution(conc_l=0.1, d_conc_l=1e-4)"
   ]
  },
  {
   "cell_type": "code",
   "execution_count": 33,
   "metadata": {},
   "outputs": [],
   "source": [
    "well = SingleWell()"
   ]
  },
  {
   "cell_type": "markdown",
   "metadata": {},
   "source": [
    "## titration"
   ]
  },
  {
   "cell_type": "code",
   "execution_count": 34,
   "metadata": {},
   "outputs": [],
   "source": [
    "# get some protein sample in the well\n",
    "well.inject(protein_stock, 1, 1e-3)\n",
    "\n"
   ]
  },
  {
   "cell_type": "code",
   "execution_count": 35,
   "metadata": {},
   "outputs": [],
   "source": [
    "# put some ligand in the well\n",
    "for idx in range(10):\n",
    "    vol = 0.005\n",
    "    well.inject(ligand_stock, vol, 1e-3)\n",
    "    \n",
    "    \n",
    "    \n",
    "    \n",
    "    "
   ]
  },
  {
   "cell_type": "code",
   "execution_count": 38,
   "metadata": {},
   "outputs": [
    {
     "name": "stdout",
     "output_type": "stream",
     "text": [
      "total used time 0.34150195121765137\n"
     ]
    }
   ],
   "source": [
    "# draw some samples\n",
    "time0 = time.time()\n",
    "vols, concs_l = well.sample(100000)\n",
    "time1 = time.time()\n",
    "print(\"total used time %s\" % (time1 - time0))\n",
    "\n",
    "\n",
    "\n",
    "\n"
   ]
  },
  {
   "cell_type": "code",
   "execution_count": 49,
   "metadata": {},
   "outputs": [
    {
     "name": "stdout",
     "output_type": "stream",
     "text": [
      "tf.distributions.TransformedDistribution(\"LogNormal/\", batch_shape=(12, 12), event_shape=(), dtype=float64)\n"
     ]
    },
    {
     "data": {
      "text/plain": [
       "['__abstractmethods__',\n",
       " '__class__',\n",
       " '__delattr__',\n",
       " '__dict__',\n",
       " '__dir__',\n",
       " '__doc__',\n",
       " '__eq__',\n",
       " '__format__',\n",
       " '__ge__',\n",
       " '__getattribute__',\n",
       " '__gt__',\n",
       " '__hash__',\n",
       " '__init__',\n",
       " '__init_subclass__',\n",
       " '__le__',\n",
       " '__lt__',\n",
       " '__module__',\n",
       " '__ne__',\n",
       " '__new__',\n",
       " '__reduce__',\n",
       " '__reduce_ex__',\n",
       " '__repr__',\n",
       " '__setattr__',\n",
       " '__sizeof__',\n",
       " '__str__',\n",
       " '__subclasshook__',\n",
       " '__weakref__',\n",
       " '_abc_cache',\n",
       " '_abc_negative_cache',\n",
       " '_abc_negative_cache_version',\n",
       " '_abc_registry',\n",
       " '_allow_nan_stats',\n",
       " '_batch_shape',\n",
       " '_batch_shape_tensor',\n",
       " '_bijector',\n",
       " '_call_cdf',\n",
       " '_call_log_cdf',\n",
       " '_call_log_prob',\n",
       " '_call_log_survival_function',\n",
       " '_call_prob',\n",
       " '_call_quantile',\n",
       " '_call_sample_n',\n",
       " '_call_survival_function',\n",
       " '_cdf',\n",
       " '_covariance',\n",
       " '_cross_entropy',\n",
       " '_distribution',\n",
       " '_dtype',\n",
       " '_empty',\n",
       " '_entropy',\n",
       " '_event_shape',\n",
       " '_event_shape_tensor',\n",
       " '_expand_sample_shape_to_vector',\n",
       " '_finish_log_prob_for_one_fiber',\n",
       " '_finish_prob_for_one_fiber',\n",
       " '_graph_parents',\n",
       " '_is_batch_override',\n",
       " '_is_event_override',\n",
       " '_is_maybe_batch_override',\n",
       " '_is_maybe_event_override',\n",
       " '_is_scalar_helper',\n",
       " '_kl_divergence',\n",
       " '_log_cdf',\n",
       " '_log_prob',\n",
       " '_log_survival_function',\n",
       " '_maybe_get_static_event_ndims',\n",
       " '_maybe_rotate_dims',\n",
       " '_maybe_validate_shape_override',\n",
       " '_mean',\n",
       " '_mode',\n",
       " '_name',\n",
       " '_name_scope',\n",
       " '_needs_rotation',\n",
       " '_override_batch_shape',\n",
       " '_override_event_shape',\n",
       " '_param_shapes',\n",
       " '_parameters',\n",
       " '_prob',\n",
       " '_quantile',\n",
       " '_reduce_event_indices',\n",
       " '_reparameterization_type',\n",
       " '_rotate_ndims',\n",
       " '_sample_n',\n",
       " '_set_sample_static_shape',\n",
       " '_stddev',\n",
       " '_survival_function',\n",
       " '_tf_api_names',\n",
       " '_tf_api_names_v1',\n",
       " '_validate_args',\n",
       " '_variance',\n",
       " '_zero',\n",
       " 'allow_nan_stats',\n",
       " 'batch_shape',\n",
       " 'batch_shape_tensor',\n",
       " 'bijector',\n",
       " 'cdf',\n",
       " 'copy',\n",
       " 'covariance',\n",
       " 'cross_entropy',\n",
       " 'distribution',\n",
       " 'dtype',\n",
       " 'entropy',\n",
       " 'event_shape',\n",
       " 'event_shape_tensor',\n",
       " 'is_scalar_batch',\n",
       " 'is_scalar_event',\n",
       " 'kl_divergence',\n",
       " 'log_cdf',\n",
       " 'log_prob',\n",
       " 'log_survival_function',\n",
       " 'mean',\n",
       " 'mode',\n",
       " 'name',\n",
       " 'param_shapes',\n",
       " 'param_static_shapes',\n",
       " 'parameters',\n",
       " 'prob',\n",
       " 'quantile',\n",
       " 'reparameterization_type',\n",
       " 'sample',\n",
       " 'stddev',\n",
       " 'survival_function',\n",
       " 'validate_args',\n",
       " 'variance']"
      ]
     },
     "execution_count": 49,
     "metadata": {},
     "output_type": "execute_result"
    }
   ],
   "source": [
    "from utils import *\n",
    "vols_ = LogNormal(loc=np.array(well.vols, dtype=np.float64),\n",
    "        scale=np.array(well.vols_cov, dtype=np.float64))()\n",
    "print(vols_)\n",
    "dir(vols_)"
   ]
  },
  {
   "cell_type": "code",
   "execution_count": 65,
   "metadata": {},
   "outputs": [
    {
     "ename": "TypeError",
     "evalue": "unsupported operand type(s) for +: 'method' and 'method'",
     "output_type": "error",
     "traceback": [
      "\u001b[0;31m---------------------------------------------------------------------------\u001b[0m",
      "\u001b[0;31mTypeError\u001b[0m                                 Traceback (most recent call last)",
      "\u001b[0;32m<ipython-input-65-a1f216ca4a11>\u001b[0m in \u001b[0;36m<module>\u001b[0;34m()\u001b[0m\n\u001b[1;32m      1\u001b[0m \u001b[0ma\u001b[0m \u001b[0;34m=\u001b[0m \u001b[0mvols_\u001b[0m\u001b[0;34m.\u001b[0m\u001b[0mcdf\u001b[0m\u001b[0;34m\u001b[0m\u001b[0m\n\u001b[1;32m      2\u001b[0m \u001b[0mb\u001b[0m \u001b[0;34m=\u001b[0m \u001b[0mvols_\u001b[0m\u001b[0;34m.\u001b[0m\u001b[0mcdf\u001b[0m\u001b[0;34m\u001b[0m\u001b[0m\n\u001b[0;32m----> 3\u001b[0;31m \u001b[0ma\u001b[0m \u001b[0;34m+\u001b[0m \u001b[0mb\u001b[0m\u001b[0;34m\u001b[0m\u001b[0m\n\u001b[0m",
      "\u001b[0;31mTypeError\u001b[0m: unsupported operand type(s) for +: 'method' and 'method'"
     ]
    }
   ],
   "source": [
    "a = vols_.cdf\n",
    "b = vols_.cdf\n",
    "a + b"
   ]
  },
  {
   "cell_type": "code",
   "execution_count": null,
   "metadata": {},
   "outputs": [],
   "source": []
  }
 ],
 "metadata": {
  "kernelspec": {
   "display_name": "Python 3",
   "language": "python",
   "name": "python3"
  },
  "language_info": {
   "codemirror_mode": {
    "name": "ipython",
    "version": 3
   },
   "file_extension": ".py",
   "mimetype": "text/x-python",
   "name": "python",
   "nbconvert_exporter": "python",
   "pygments_lexer": "ipython3",
   "version": "3.6.5"
  }
 },
 "nbformat": 4,
 "nbformat_minor": 2
}
